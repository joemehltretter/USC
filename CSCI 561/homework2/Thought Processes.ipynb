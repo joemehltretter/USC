{
 "cells": [
  {
   "cell_type": "markdown",
   "metadata": {},
   "source": [
    "# Constraint Satisfaction Homework"
   ]
  },
  {
   "cell_type": "markdown",
   "metadata": {},
   "source": [
    "CSP domain, variables, values and constraints for this problem.\n",
    "\n",
    "    - Variables = Teams\n",
    "    - Variable Assignment = Group\n",
    "    - Domain = Pot\n",
    "    - Constraint = no two teams from same pot, and no two teams from same confederate, unless UEFA are allowed in same group. If from UEFA then two teams are allowed."
   ]
  },
  {
   "cell_type": "markdown",
   "metadata": {},
   "source": [
    "## Code in hw2cs561s2018.py file"
   ]
  },
  {
   "cell_type": "markdown",
   "metadata": {},
   "source": [
    "### Read in file"
   ]
  },
  {
   "cell_type": "code",
   "execution_count": 98,
   "metadata": {},
   "outputs": [],
   "source": [
    "#import sys\n",
    "#filePath = sys.argv[1]\n",
    "with open('tests/input1.txt', 'r') as openFile:\n",
    "  fileData = openFile.readlines()\n",
    "openFile.close()\n",
    "cspInfo = [line.strip() for line in fileData]\n",
    "\n"
   ]
  },
  {
   "cell_type": "markdown",
   "metadata": {},
   "source": [
    "### Assign variables from values provided in value"
   ]
  },
  {
   "cell_type": "code",
   "execution_count": 99,
   "metadata": {},
   "outputs": [],
   "source": [
    "import collections\n",
    "dNumOfGroups = int(cspInfo[0])\n",
    "dNumOfPots = int(cspInfo[1])\n",
    "lsVariables = []\n",
    "dctVarInfo = collections.defaultdict(list)\n",
    "dctDomains = collections.defaultdict(list)\n",
    "count = 2\n",
    "intPotNum = 1\n",
    "for pot in range(dNumOfPots):\n",
    "    splitLine = cspInfo[count].split(',')\n",
    "    for country in splitLine:\n",
    "        lsVariables.append(country)\n",
    "        dctVarInfo[country].append(intPotNum)\n",
    "\n",
    "        for num in range(1, dNumOfGroups+1):\n",
    "            dctDomains[country].append(num)\n",
    "\n",
    "    count = count + 1\n",
    "    intPotNum = intPotNum + 1\n",
    "for confederation in range(6):\n",
    "    #parse string\n",
    "    splitLine = cspInfo[count].split(':')\n",
    "    strConfederation = splitLine.pop(0)\n",
    "    splitLine = str(splitLine)\n",
    "    splitLine = splitLine.split(',')\n",
    "    count = count + 1\n",
    "    if 'None' not in ''.join(splitLine):\n",
    "        for word in splitLine:\n",
    "            word = word.strip('[')\n",
    "            word = word.strip(']')\n",
    "            word = word.strip(\"'\")\n",
    "            dctVarInfo[word].append(strConfederation)"
   ]
  },
  {
   "cell_type": "code",
   "execution_count": 100,
   "metadata": {},
   "outputs": [],
   "source": [
    "# Create neighbors variable and assign neighbors related to values that \n",
    "# can be assigned. For example: If variable country is in pot 1; then its\n",
    "# neighbors can be 2, 3, and/or 4.\n",
    "dctConfNeighbors = collections.defaultdict(list)\n",
    "dctPotNeighbors = collections.defaultdict(list)\n",
    "\n",
    "for country in dctVarInfo.keys():\n",
    "    if dctVarInfo[country][0] == 1:\n",
    "        neigh = [2,3,4]\n",
    "        dctPotNeighbors[country].append(neigh)\n",
    "    elif dctVarInfo[country][0] == 2:\n",
    "        neigh = [1,3,4]\n",
    "        dctPotNeighbors[country].append(neigh)\n",
    "    elif dctVarInfo[country][0] == 3:\n",
    "        neigh = [1,2,4]\n",
    "        dctPotNeighbors[country].append(neigh)\n",
    "    else:\n",
    "        neigh = [1,2,3]\n",
    "        dctPotNeighbors[country].append(neigh)\n",
    "    if dctVarInfo[country][1] == 'AFC':\n",
    "        neigh = ['CAF', 'OFC', 'CONCACAF', 'CONMEBOL', 'UEFA']\n",
    "        dctConfNeighbors[country].append(neigh)\n",
    "    elif dctVarInfo[country][1] == 'CAF':\n",
    "        neigh = ['AFC', 'OFC', 'CONCACAF', 'CONMEBOL', 'UEFA']\n",
    "        dctConfNeighbors[country].append(neigh)\n",
    "    elif dctVarInfo[country][1] == 'OFC':\n",
    "        neigh = ['AFC', 'CAF', 'CONCACAF', 'CONMEBOL', 'UEFA']\n",
    "        dctConfNeighbors[country].append(neigh)\n",
    "    elif dctVarInfo[country][1] == 'CONCACAF':\n",
    "        neigh = ['AFC', 'CAF', 'OFC', 'CONMEBOL', 'UEFA']\n",
    "        dctConfNeighbors[country].append(neigh)\n",
    "    elif dctVarInfo[country][1] == 'CONMEBOL':\n",
    "        neigh = ['AFC', 'CAF', 'OFC', 'CONCACAF', 'UEFA']\n",
    "        dctConfNeighbors[country].append(neigh)\n",
    "    else:\n",
    "        neigh = ['AFC', 'CAF', 'OFC', 'CONCACAF', 'CONMEBOL']\n",
    "        dctConfNeighbors[country].append(neigh)"
   ]
  },
  {
   "cell_type": "markdown",
   "metadata": {},
   "source": [
    "### Send variables to CSP file to be solved and returned."
   ]
  },
  {
   "cell_type": "code",
   "execution_count": 101,
   "metadata": {},
   "outputs": [
    {
     "name": "stdout",
     "output_type": "stream",
     "text": [
      "Allowed in group: 1 \n",
      "Allowed in group: 2 \n",
      "Allowed in group: 3 \n"
     ]
    }
   ],
   "source": [
    "import CSP\n",
    "cspProblem = CSP.CSP(lsVariables, dctVarInfo, dctDomains, dctPotNeighbors, dctConfNeighbors, None)\n",
    "cspProblem.Solve()"
   ]
  },
  {
   "cell_type": "markdown",
   "metadata": {},
   "source": [
    "## Code from CSP.py "
   ]
  },
  {
   "cell_type": "markdown",
   "metadata": {},
   "source": [
    "### Class declaration"
   ]
  },
  {
   "cell_type": "code",
   "execution_count": 102,
   "metadata": {},
   "outputs": [],
   "source": [
    "import collections\n",
    "\n",
    "class CSP(object):\n",
    "    def __init__(self, variables, variableInfo, domains, potNeighbors, confNeighbors, constraints):\n",
    "        self.variables = variables\n",
    "        self.valInfo = variableInfo\n",
    "        self.domains = domains\n",
    "        self.notConstrainedDomains = None\n",
    "        self.potNeighbors = potNeighbors\n",
    "        self.confNeighbors = confNeighbors\n",
    "        self.constraints = constraints\n",
    "        self.assignments = collections.defaultdict(list)"
   ]
  },
  {
   "cell_type": "markdown",
   "metadata": {},
   "source": [
    "### Solve function: Takes in CSP object and performs actions needed to solve CSP problem. Once solved it returns solution to hw2cs561s2018.py file."
   ]
  },
  {
   "cell_type": "raw",
   "metadata": {},
   "source": [
    "#Solve:\n",
    "#1) check if every variable is assigned, if so then return assignments.\n",
    "#2) Get an unassigned value using GetVarMRV (MRV algorithm)\n",
    "#3) Iterate through those domains check constraint conflicts\n",
    "#4) Mke inference through MAC?"
   ]
  },
  {
   "cell_type": "code",
   "execution_count": 107,
   "metadata": {},
   "outputs": [],
   "source": [
    "    def Solve(self):\n",
    "        lsDomains = self.domains\n",
    "        if len(self.assignments) == len(self.variables):\n",
    "            return self.assignments\n",
    "        \n",
    "        currentCountry = self.GetVarMRV()\n",
    "        lsReorderedDomains = DomainValLCV(currentCountry)\n",
    "        \n",
    "        for value in lsDomains[currentCountry]:\n",
    "            if 0 == self.CheckConstraints(currentCountry, value, dctAssignments):\n",
    "                print(\"Allowed in group: %d \" % value)"
   ]
  },
  {
   "cell_type": "markdown",
   "metadata": {},
   "source": [
    "### GetVar function: Takes in self object, and finds unassigned variables and returns."
   ]
  },
  {
   "cell_type": "code",
   "execution_count": 105,
   "metadata": {},
   "outputs": [],
   "source": [
    "    def GetVarMRV(self):\n",
    "        for country in self.variables:\n",
    "            if country not in self.assignments:\n",
    "                return country"
   ]
  },
  {
   "cell_type": "markdown",
   "metadata": {},
   "source": [
    "### CheckConstraints function: Takes in CSP object, currentCountry to check constraints, the value to check current variables assigned in groups, and the dictionary of assignments."
   ]
  },
  {
   "cell_type": "code",
   "execution_count": 106,
   "metadata": {},
   "outputs": [],
   "source": [
    "    def CheckConstraints(self, currentCountry, value):\n",
    "        constraints = 0\n",
    "        if value in dctAssignments:\n",
    "            for country in dctAssignments[value]:\n",
    "                if self.potNeighbors[country] == self.potNeighbors[currentCountry] or \\\n",
    "                    self.confNeighbors[country] == self.confNeighbors[currentCountry]:\n",
    "                    constraints = constraints + 1\n",
    "\n",
    "        elif self.potNeighbors[country] != self.potNeighbors[currentCountry] and \\\n",
    "            self.confNeighbors[country] != self.confNeighbors[currentCountry]:\n",
    "            return 0"
   ]
  },
  {
   "cell_type": "code",
   "execution_count": null,
   "metadata": {},
   "outputs": [],
   "source": []
  }
 ],
 "metadata": {
  "kernelspec": {
   "display_name": "Python 2",
   "language": "python",
   "name": "python2"
  },
  "language_info": {
   "codemirror_mode": {
    "name": "ipython",
    "version": 3
   },
   "file_extension": ".py",
   "mimetype": "text/x-python",
   "name": "python",
   "nbconvert_exporter": "python",
   "pygments_lexer": "ipython3",
   "version": "3.6.3"
  }
 },
 "nbformat": 4,
 "nbformat_minor": 2
}
