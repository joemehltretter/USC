{
 "cells": [
  {
   "cell_type": "heading",
   "metadata": {
    "collapsed": true
   },
   "level": 1,
   "source": [
    "Homework Two: Constraint Satisfaction Problem"
   ]
  },
  {
   "cell_type": "heading",
   "metadata": {},
   "level": 2,
   "source": [
    "CSP Assignments:"
   ]
  },
  {
   "cell_type": "markdown",
   "metadata": {},
   "source": [
    "    - Variables = Teams\n",
    "    - Variable Assignment = Group\n",
    "    - Domain = Pot\n",
    "    - Constraint = constraint one & two above"
   ]
  },
  {
   "cell_type": "heading",
   "metadata": {},
   "level": 2,
   "source": [
    "Need to Read File"
   ]
  },
  {
   "cell_type": "code",
   "execution_count": null,
   "metadata": {},
   "outputs": [],
   "source": [
    "import argv[1]\n",
    "filePath = sys.argv[1]\n",
    "with open(filePath, 'r') as openFile:\n",
    "  fileData = openFile.readlines()\n",
    "openFile.close()\n",
    "cspInfo = [line.strip() for line in fileData]\n",
    "\n"
   ]
  },
  {
   "cell_type": "heading",
   "metadata": {},
   "level": 2,
   "source": [
    "Assign Variables"
   ]
  },
  {
   "cell_type": "code",
   "execution_count": null,
   "metadata": {},
   "outputs": [],
   "source": [
    "import collections\n",
    "dNumOfGroups = int(cspInfo[0])\n",
    "dNumOfPots = int(cspInfo[1])\n",
    "dctPots = collections.defaultdict(list)\n",
    "dctConfederations = collections.defaultdict(list)\n",
    "count = 2\n",
    "intPotNum = 1\n",
    "for pot in range(dNumOfPots):\n",
    "  dctPots[intPotNum] = cspInfo[count]\n",
    "  count = count + 1\n",
    "  intPotNum = intPotNum + 1\n",
    "  \n",
    "for confederation in range(6):\n",
    "  splitLine = cspInfo[count].split(':')\n",
    "  strConfederation = splitLine.pop(0)\n",
    "  splitLine = str(splitLine)\n",
    "  splitLine = splitLine.split(',')\n",
    "  count = count + 1\n",
    "  for word in splitLine:\n",
    "    word = word.strip('[')\n",
    "    word = word.strip(']')\n",
    "    word = word.strip(\"'\")\n",
    "    dctConfederation[strConfederation.append(word)]"
   ]
  }
 ],
 "metadata": {
  "kernelspec": {
   "display_name": "Python 2",
   "language": "python",
   "name": "python2"
  },
  "language_info": {
   "codemirror_mode": {
    "name": "ipython",
    "version": 2
   },
   "file_extension": ".py",
   "mimetype": "text/x-python",
   "name": "python",
   "nbconvert_exporter": "python",
   "pygments_lexer": "ipython2",
   "version": "2.7.6"
  }
 },
 "nbformat": 4,
 "nbformat_minor": 0
}
